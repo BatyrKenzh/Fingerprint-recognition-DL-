{
  "nbformat": 4,
  "nbformat_minor": 0,
  "metadata": {
    "colab": {
      "provenance": [],
      "gpuType": "T4"
    },
    "kernelspec": {
      "name": "python3",
      "display_name": "Python 3"
    },
    "language_info": {
      "name": "python"
    },
    "accelerator": "GPU"
  },
  "cells": [
    {
      "cell_type": "markdown",
      "source": [
        "Name: Batyr Kenzheakhmetov\n",
        "\n",
        "ID: 000801267\n",
        "\n",
        "Honor code: I have neither given nor received unauthorized aid in completing this work, nor have I presented someone else’s work as my own.\n",
        "\n",
        "DATA: https://drive.google.com/drive/folders/1j2AtBgq__OuXMlFoW5-b0O4nKRePjhR2?usp=sharing"
      ],
      "metadata": {
        "id": "nwR_DB28-868"
      }
    },
    {
      "cell_type": "code",
      "execution_count": 114,
      "metadata": {
        "id": "WAFLL35gr2z9"
      },
      "outputs": [],
      "source": [
        "import numpy as np\n",
        "import keras\n",
        "\n",
        "# Load the VGG16 model pre-trained on ImageNet dataset\n",
        "# Exclude the fully connected layers (top layers) since we might have different classes\n",
        "# Set the input shape to (300, 500, 3), indicating an image size of 180x180 pixels with 3 color channels (RGB)\n",
        "conv_base = keras.applications.vgg16.VGG16(\n",
        "    weights=\"imagenet\",  # Using pre-trained weights on ImageNet\n",
        "    include_top=False,   # Exclude the fully connected layers\n",
        "    input_shape=(300, 500, 3)  # Specify input shape\n",
        ")"
      ]
    },
    {
      "cell_type": "code",
      "source": [
        "# Mount Google Drive to access files stored in Google Drive\n",
        "from google.colab import drive\n",
        "drive.mount('/content/drive')\n",
        "import os\n",
        "\n",
        "base_dir = '/content/drive/MyDrive/FPD_BC1_BATYR'\n",
        "\n",
        "train_dir = os.path.join(base_dir, 'train')         # Directory containing training data\n",
        "vali_dir = os.path.join(base_dir, 'validation')     # Directory containing validation data\n",
        "test_dir = os.path.join(base_dir, 'test')           # Directory containing test data"
      ],
      "metadata": {
        "colab": {
          "base_uri": "https://localhost:8080/"
        },
        "id": "N5LdZUW_sUHF",
        "outputId": "2224c540-1d1f-49b4-e0f5-5a308fa7ad32"
      },
      "execution_count": 108,
      "outputs": [
        {
          "output_type": "stream",
          "name": "stdout",
          "text": [
            "Drive already mounted at /content/drive; to attempt to forcibly remount, call drive.mount(\"/content/drive\", force_remount=True).\n"
          ]
        }
      ]
    },
    {
      "cell_type": "code",
      "source": [
        "from keras.utils import image_dataset_from_directory\n",
        "\n",
        "# Create a training dataset from images in the 'train_dir' directory\n",
        "# Specify the image size as (300, 500) and batch size as 8\n",
        "train_dataset = image_dataset_from_directory(\n",
        "    train_dir,\n",
        "    image_size=(300, 500),\n",
        "    batch_size=16)\n",
        "\n",
        "# Create a validation dataset from images in the 'vali_dir' directory\n",
        "validation_dataset = image_dataset_from_directory(\n",
        "    vali_dir,\n",
        "    image_size=(300, 500),\n",
        "    batch_size=4)\n",
        "\n",
        "# Create a test dataset from images in the 'test_dir' directory\n",
        "test_dataset = image_dataset_from_directory(\n",
        "    test_dir,\n",
        "    image_size=(300, 500),\n",
        "    batch_size=4,\n",
        "    shuffle=True)"
      ],
      "metadata": {
        "colab": {
          "base_uri": "https://localhost:8080/"
        },
        "id": "RTN4uYfbtGdV",
        "outputId": "48259726-3df5-46a1-cf9c-a3ef64c4906b"
      },
      "execution_count": 118,
      "outputs": [
        {
          "output_type": "stream",
          "name": "stdout",
          "text": [
            "Found 320 files belonging to 2 classes.\n",
            "Found 40 files belonging to 2 classes.\n",
            "Found 40 files belonging to 2 classes.\n"
          ]
        }
      ]
    },
    {
      "cell_type": "code",
      "source": [
        "from keras import models\n",
        "from keras import layers\n",
        "from keras import regularizers\n",
        "\n",
        "# Instantiating the VGG16 convolutional base with pre-trained weights from ImageNet\n",
        "conv_base  = keras.applications.vgg16.VGG16(\n",
        "    weights=\"imagenet\",\n",
        "    include_top=False)\n",
        "\n",
        "# Freezing the weights of the convolutional base to prevent them from being updated during training\n",
        "conv_base.trainable = False"
      ],
      "metadata": {
        "id": "aL_3FLDktu13"
      },
      "execution_count": 119,
      "outputs": []
    },
    {
      "cell_type": "code",
      "source": [
        "# Adding a data augmentation stage and a classifier to the convolutional base\n",
        "data_augmentation = keras.Sequential(\n",
        "    [\n",
        "        layers.RandomFlip(\"horizontal\"),\n",
        "        layers.RandomRotation(0.1),\n",
        "        layers.RandomZoom(0.2),\n",
        "    ]\n",
        ")\n",
        "\n",
        "# Define the input shape for the model\n",
        "inputs = keras.Input(shape=(300, 500, 3))\n",
        "x = data_augmentation(inputs)                                         # Apply data augmentation to the input data\n",
        "x = keras.applications.vgg16.preprocess_input(x)\n",
        "x = conv_base(x)                                                      # Pass the preprocessed input data through the convolutional base\n",
        "x = layers.Flatten()(x)\n",
        "x = layers.Dense(128, kernel_regularizer=regularizers.l2(0.01))(x)    # Add a dense layer with 128 units and L2 regularization\n",
        "outputs = layers.Dense(1, activation=\"sigmoid\")(x)                    # Add a dense output layer with a single unit and sigmoid activation for binary classification\n",
        "model = keras.Model(inputs, outputs)\n",
        "model.compile(loss=\"binary_crossentropy\",                             # Compile the model with binary cross-entropy loss, RMSprop optimizer, and accuracy metric\n",
        "              optimizer=\"rmsprop\",\n",
        "              metrics=[\"accuracy\"])\n",
        "\n",
        "model.summary()"
      ],
      "metadata": {
        "colab": {
          "base_uri": "https://localhost:8080/"
        },
        "id": "BoxKaau3t2mZ",
        "outputId": "87a6bbd6-c166-454c-8b2b-2924a1e999ad"
      },
      "execution_count": 120,
      "outputs": [
        {
          "output_type": "stream",
          "name": "stdout",
          "text": [
            "Model: \"model_21\"\n",
            "_________________________________________________________________\n",
            " Layer (type)                Output Shape              Param #   \n",
            "=================================================================\n",
            " input_40 (InputLayer)       [(None, 300, 500, 3)]     0         \n",
            "                                                                 \n",
            " sequential_21 (Sequential)  (None, 300, 500, 3)       0         \n",
            "                                                                 \n",
            " tf.__operators__.getitem_2  (None, 300, 500, 3)       0         \n",
            " 1 (SlicingOpLambda)                                             \n",
            "                                                                 \n",
            " tf.nn.bias_add_21 (TFOpLam  (None, 300, 500, 3)       0         \n",
            " bda)                                                            \n",
            "                                                                 \n",
            " vgg16 (Functional)          (None, None, None, 512)   14714688  \n",
            "                                                                 \n",
            " flatten_21 (Flatten)        (None, 69120)             0         \n",
            "                                                                 \n",
            " dense_44 (Dense)            (None, 128)               8847488   \n",
            "                                                                 \n",
            " dense_45 (Dense)            (None, 1)                 129       \n",
            "                                                                 \n",
            "=================================================================\n",
            "Total params: 23562305 (89.88 MB)\n",
            "Trainable params: 8847617 (33.75 MB)\n",
            "Non-trainable params: 14714688 (56.13 MB)\n",
            "_________________________________________________________________\n"
          ]
        }
      ]
    },
    {
      "cell_type": "code",
      "source": [
        "callbacks = [\n",
        "    keras.callbacks.ModelCheckpoint(\n",
        "        filepath=\"/content/drive/MyDrive/HW7_FP.h5\", # legacy format\n",
        "        save_best_only=True,\n",
        "        monitor=\"val_loss\")\n",
        "]\n",
        "history = model.fit(\n",
        "    train_dataset,\n",
        "    epochs=20,\n",
        "    validation_data=validation_dataset,\n",
        "    callbacks=callbacks)"
      ],
      "metadata": {
        "colab": {
          "base_uri": "https://localhost:8080/"
        },
        "id": "54hfd9W1uCOT",
        "outputId": "a26b2d7b-184d-4cf4-c1d1-be3feaf35618"
      },
      "execution_count": 122,
      "outputs": [
        {
          "output_type": "stream",
          "name": "stdout",
          "text": [
            "Epoch 1/20\n",
            "20/20 [==============================] - 12s 584ms/step - loss: 169.8061 - accuracy: 0.6531 - val_loss: 146.5391 - val_accuracy: 0.6500\n",
            "Epoch 2/20\n",
            "20/20 [==============================] - 7s 322ms/step - loss: 35.3826 - accuracy: 0.8125 - val_loss: 59.7454 - val_accuracy: 0.7000\n",
            "Epoch 3/20\n",
            "20/20 [==============================] - 7s 290ms/step - loss: 47.9300 - accuracy: 0.7969 - val_loss: 30.7151 - val_accuracy: 0.8000\n",
            "Epoch 4/20\n",
            "20/20 [==============================] - 7s 298ms/step - loss: 28.2031 - accuracy: 0.8781 - val_loss: 9.4728 - val_accuracy: 0.9250\n",
            "Epoch 5/20\n",
            "20/20 [==============================] - 6s 278ms/step - loss: 20.3747 - accuracy: 0.8906 - val_loss: 17.2553 - val_accuracy: 0.8750\n",
            "Epoch 6/20\n",
            "20/20 [==============================] - 6s 265ms/step - loss: 13.4660 - accuracy: 0.9219 - val_loss: 9.7223 - val_accuracy: 0.9250\n",
            "Epoch 7/20\n",
            "20/20 [==============================] - 8s 384ms/step - loss: 13.9142 - accuracy: 0.8906 - val_loss: 4.6236 - val_accuracy: 0.9750\n",
            "Epoch 8/20\n",
            "20/20 [==============================] - 8s 321ms/step - loss: 7.1740 - accuracy: 0.9500 - val_loss: 4.0725 - val_accuracy: 0.9500\n",
            "Epoch 9/20\n",
            "20/20 [==============================] - 7s 299ms/step - loss: 13.5792 - accuracy: 0.8875 - val_loss: 3.8987 - val_accuracy: 0.9500\n",
            "Epoch 10/20\n",
            "20/20 [==============================] - 7s 305ms/step - loss: 6.5790 - accuracy: 0.9312 - val_loss: 2.3633 - val_accuracy: 0.9750\n",
            "Epoch 11/20\n",
            "20/20 [==============================] - 6s 271ms/step - loss: 8.4487 - accuracy: 0.8906 - val_loss: 5.3838 - val_accuracy: 0.9000\n",
            "Epoch 12/20\n",
            "20/20 [==============================] - 7s 293ms/step - loss: 3.9315 - accuracy: 0.9531 - val_loss: 11.6967 - val_accuracy: 0.8000\n",
            "Epoch 13/20\n",
            "20/20 [==============================] - 6s 270ms/step - loss: 3.7956 - accuracy: 0.9219 - val_loss: 2.4697 - val_accuracy: 0.9750\n",
            "Epoch 14/20\n",
            "20/20 [==============================] - 6s 276ms/step - loss: 3.6834 - accuracy: 0.8938 - val_loss: 2.8035 - val_accuracy: 0.9250\n",
            "Epoch 15/20\n",
            "20/20 [==============================] - 8s 382ms/step - loss: 2.4252 - accuracy: 0.9156 - val_loss: 1.6877 - val_accuracy: 0.9500\n",
            "Epoch 16/20\n",
            "20/20 [==============================] - 6s 267ms/step - loss: 1.6920 - accuracy: 0.9344 - val_loss: 3.7904 - val_accuracy: 0.8000\n",
            "Epoch 17/20\n",
            "20/20 [==============================] - 9s 385ms/step - loss: 1.4003 - accuracy: 0.9344 - val_loss: 1.1515 - val_accuracy: 0.9000\n",
            "Epoch 18/20\n",
            "20/20 [==============================] - 7s 314ms/step - loss: 1.5222 - accuracy: 0.9156 - val_loss: 0.6675 - val_accuracy: 1.0000\n",
            "Epoch 19/20\n",
            "20/20 [==============================] - 6s 270ms/step - loss: 1.9781 - accuracy: 0.9000 - val_loss: 1.0198 - val_accuracy: 0.8750\n",
            "Epoch 20/20\n",
            "20/20 [==============================] - 9s 380ms/step - loss: 0.8423 - accuracy: 0.9250 - val_loss: 0.5250 - val_accuracy: 0.9750\n"
          ]
        }
      ]
    },
    {
      "cell_type": "code",
      "source": [
        "import matplotlib.pyplot as plt\n",
        "\n",
        "acc = history.history['accuracy']\n",
        "val_acc = history.history['val_accuracy']\n",
        "loss = history.history['loss']\n",
        "val_loss = history.history['val_loss']\n",
        "\n",
        "epochs = range(len(acc))\n",
        "\n",
        "fig, (ax1, ax2) = plt.subplots(1, 2)\n",
        "fig.set_size_inches(12, 4)\n",
        "\n",
        "ax1.plot(epochs, acc, 'bo', label='Training acc')\n",
        "ax1.plot(epochs, val_acc, 'b', label='Validation acc')\n",
        "ax1.set_title('Training and validation accuracy')\n",
        "ax1.legend()\n",
        "\n",
        "ax2.plot(epochs, loss, 'bo', label='Training loss')\n",
        "ax2.plot(epochs, val_loss, 'b', label='Validation loss')\n",
        "ax2.set_title('Training and validation loss')\n",
        "ax2.legend()\n",
        "\n",
        "plt.show()"
      ],
      "metadata": {
        "colab": {
          "base_uri": "https://localhost:8080/",
          "height": 391
        },
        "id": "4Izc-82wuQrx",
        "outputId": "caef5742-d2fa-4dd0-a35f-42021e33b315"
      },
      "execution_count": 123,
      "outputs": [
        {
          "output_type": "display_data",
          "data": {
            "text/plain": [
              "<Figure size 1200x400 with 2 Axes>"
            ],
            "image/png": "[encoded data removed]"
          },
          "metadata": {}
        }
      ]
    },
    {
      "cell_type": "code",
      "source": [
        "loss, acc = model.evaluate(test_dataset)\n",
        "print(f\"FE2 model, accuracy: {100*acc :5.2f}%\")"
      ],
      "metadata": {
        "colab": {
          "base_uri": "https://localhost:8080/"
        },
        "id": "UF_ZYwWIw6VX",
        "outputId": "9c2b6b32-e093-4c1e-d13e-a811b1a499ee"
      },
      "execution_count": 124,
      "outputs": [
        {
          "output_type": "stream",
          "name": "stdout",
          "text": [
            "10/10 [==============================] - 1s 81ms/step - loss: 0.5080 - accuracy: 1.0000\n",
            "FE2 model, accuracy: 100.00%\n"
          ]
        }
      ]
    },
    {
      "cell_type": "markdown",
      "source": [
        "\n",
        "Conclusion and Analysis:\n",
        "\n",
        "Overview of the Work:\n",
        "My project involves identifying whose fingerprints belong to whom using machine learning techniques.\n",
        "I utilized a convolutional neural network (CNN) architecture with transfer learning using the VGG16 model pre-trained on the ImageNet dataset.\n",
        "Key components of my code include data loading using image_dataset_from_directory, model building, training, evaluation, and visualization of training/validation metrics.\n",
        "\n",
        "Choice of Optimizer, Loss Function, and Metrics:\n",
        "Optimizer ('rmsprop'): I chose the RMSprop optimizer for training your model. RMSprop is an adaptive learning rate optimization algorithm that adjusts the learning rate during training, which can help converge faster and potentially reach a better solution.\n",
        "\n",
        "Loss Function ('binary_crossentropy'): Since my task involves binary classification (determining whose fingerprints belong to whom), binary cross-entropy loss is a suitable choice. It measures the difference between predicted probabilities and actual labels, penalizing incorrect predictions more heavily.\n",
        "Metrics (['accuracy']): You selected accuracy as the metric to evaluate my model's performance. Accuracy measures the proportion of correctly classified samples, which is a relevant metric for binary classification tasks.\n",
        "\n",
        "Data Augmentation and Preprocessing:\n",
        "Data Augmentation: I applied data augmentation using horizontal flipping, rotation, and zooming to increase the variability of your training data. This helps the model generalize better to unseen data and reduces the risk of overfitting.\n",
        "\n",
        "Preprocessing: Before passing the data through the VGG16 model, I preprocessed it using the preprocess_input function from keras.applications.vgg16. This function preprocesses the input data according to the requirements of the VGG16 model, which includes mean centering and scaling.\n",
        "\n",
        "Model Architecture:\n",
        "Input Layer: I defined an input layer with a shape of (300, 500, 3), indicating images of size 300x500 pixels with 3 color channels (RGB).\n",
        "Data Augmentation Integration: Data augmentation was applied directly to the input data before passing it through the model. This allows the model to learn from augmented versions of the original images, enhancing its robustness.\n",
        "Flatten and Dense Layers: After passing the preprocessed input data through the VGG16 convolutional base, I flattened the output and added a dense layer with 128 units. Regularization was applied to this layer using L2 regularization with a coefficient of 0.01, which helps prevent overfitting by penalizing large weights.\n",
        "\n",
        "Early Stopping at 20 Epochs:\n",
        "Reasoning I decided to stop training at 20 epochs, likely to prevent overfitting and save computational resources. Overfitting can occur when the model learns noise and details specific to the training data, leading to poor generalization to new data. By stopping training early, I avoid excessive exposure to the training data, reducing the risk of overfitting.\n",
        "Evaluation: After training for 20 epochs, I evaluated the model's performance on the validation dataset to ensure it didn't degrade significantly. This approach allows I to strike a balance between model performance and computational efficiency.\n",
        "\n",
        "In summary, my approach demonstrates thoughtful consideration of model architecture, optimization, and training strategies for the fingerprint identification task. By leveraging transfer learning, data augmentation, appropriate loss functions, and regularization techniques, I've constructed a robust and efficient model for identifying fingerprints. Additionally, the decision to stop training early at 20 epochs reflects a prudent approach to balancing model performance and computational resources."
      ],
      "metadata": {
        "id": "qucsgNsiE_DT"
      }
    }
  ]
}